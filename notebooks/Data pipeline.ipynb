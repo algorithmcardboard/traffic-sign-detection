{
 "cells": [
  {
   "cell_type": "code",
   "execution_count": 1,
   "metadata": {
    "collapsed": true
   },
   "outputs": [],
   "source": [
    "tnt = require 'torchnet'\n",
    "image = require 'image'"
   ]
  },
  {
   "cell_type": "code",
   "execution_count": 13,
   "metadata": {
    "collapsed": false
   },
   "outputs": [],
   "source": [
    "train = torch.load('../data/train.t7')\n",
    "test = torch.load('../data/test.t7')\n",
    "DATA_PATH = \"/home/anirudhan/workspace/traffic-sign-detection/data\"\n",
    "WIDTH, HEIGHT = 32, 32"
   ]
  },
  {
   "cell_type": "code",
   "execution_count": 14,
   "metadata": {
    "collapsed": true
   },
   "outputs": [],
   "source": [
    "function resize(img)\n",
    "    return image.scale(img, WIDTH,HEIGHT)\n",
    "end\n",
    "\n",
    "function transformInput(inp)\n",
    "    f = tnt.transform.compose{\n",
    "        [1] = resize\n",
    "    }\n",
    "    return f(inp)\n",
    "end"
   ]
  },
  {
   "cell_type": "code",
   "execution_count": 15,
   "metadata": {
    "collapsed": true
   },
   "outputs": [],
   "source": [
    "function getTrainSample(dataset, idx)\n",
    "    r = dataset[idx]\n",
    "    classId, track, file = r[9], r[1], r[2]\n",
    "    file = string.format(\"%05d/%05d_%05d.ppm\", classId, track, file)\n",
    "    return transformInput(image.load(DATA_PATH .. '/train_images/'..file))\n",
    "end\n",
    "\n",
    "function getTrainLabel(dataset, idx)\n",
    "    return dataset[idx][9]\n",
    "end"
   ]
  },
  {
   "cell_type": "code",
   "execution_count": 16,
   "metadata": {
    "collapsed": true
   },
   "outputs": [],
   "source": [
    "function getTestSample(dataset, idx)\n",
    "    r = dataset[idx]\n",
    "    file = DATA_PATH .. \"/test_images/\" .. string.format(\"%05d.ppm\", r[1])\n",
    "    return transformInput(image.load(file))\n",
    "end"
   ]
  },
  {
   "cell_type": "code",
   "execution_count": 17,
   "metadata": {
    "collapsed": false
   },
   "outputs": [],
   "source": [
    "trainDataset = tnt.SplitDataset{\n",
    "    partitions = {train=0.9, val=0.1},\n",
    "    dataset = tnt.ShuffleDataset{\n",
    "        dataset = tnt.ListDataset{\n",
    "            list = torch.range(1, train:size(1)):long(),\n",
    "            load = function(idx)\n",
    "                return {\n",
    "                    input =  getTrainSample(train, idx),\n",
    "                    target = getTrainLabel(train, idx)\n",
    "                }\n",
    "            end\n",
    "        }\n",
    "    }\n",
    "}"
   ]
  },
  {
   "cell_type": "code",
   "execution_count": 18,
   "metadata": {
    "collapsed": true
   },
   "outputs": [],
   "source": [
    "function getIterator(dataset)\n",
    "    return tnt.ParallelDatasetIterator{\n",
    "        nthread = 1,\n",
    "        init = function() require 'torchnet' end,\n",
    "        closure = function()\n",
    "            return tnt.BatchDataset{\n",
    "                batchsize = 128,\n",
    "                dataset = dataset\n",
    "            }\n",
    "        end\n",
    "    }\n",
    "end"
   ]
  },
  {
   "cell_type": "code",
   "execution_count": 29,
   "metadata": {
    "collapsed": false
   },
   "outputs": [
    {
     "data": {
      "text/plain": [
       "\n"
      ]
     },
     "execution_count": 29,
     "metadata": {},
     "output_type": "execute_result"
    }
   ],
   "source": [
    "trainDataset:select('val')"
   ]
  },
  {
   "cell_type": "code",
   "execution_count": 30,
   "metadata": {
    "collapsed": false
   },
   "outputs": [
    {
     "data": {
      "text/plain": [
       "3920\t\n"
      ]
     },
     "execution_count": 30,
     "metadata": {},
     "output_type": "execute_result"
    }
   ],
   "source": [
    "trainDataset:size()"
   ]
  },
  {
   "cell_type": "code",
   "execution_count": 31,
   "metadata": {
    "collapsed": false
   },
   "outputs": [
    {
     "data": {
      "text/plain": [
       "39208\t\n"
      ]
     },
     "execution_count": 31,
     "metadata": {},
     "output_type": "execute_result"
    }
   ],
   "source": [
    "35288 + 3920"
   ]
  },
  {
   "cell_type": "code",
   "execution_count": 32,
   "metadata": {
    "collapsed": false
   },
   "outputs": [
    {
     "data": {
      "text/plain": [
       " 39209\n",
       "     9\n",
       "[torch.LongStorage of size 2]\n",
       "\n"
      ]
     },
     "execution_count": 32,
     "metadata": {},
     "output_type": "execute_result"
    }
   ],
   "source": [
    "train:size()"
   ]
  },
  {
   "cell_type": "code",
   "execution_count": null,
   "metadata": {
    "collapsed": true
   },
   "outputs": [],
   "source": []
  }
 ],
 "metadata": {
  "kernelspec": {
   "display_name": "iTorch",
   "language": "lua",
   "name": "itorch"
  },
  "language_info": {
   "name": "lua",
   "version": "20100"
  }
 },
 "nbformat": 4,
 "nbformat_minor": 0
}
